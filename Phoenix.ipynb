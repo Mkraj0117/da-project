{
 "cells": [
  {
   "cell_type": "code",
   "execution_count": 31,
   "metadata": {},
   "outputs": [],
   "source": [
    "import numpy as np\n",
    "import pandas as pd\n",
    "import matplotlib.pyplot as plt\n",
    "import seaborn as sns\n"
   ]
  },
  {
   "cell_type": "code",
   "execution_count": 32,
   "metadata": {},
   "outputs": [],
   "source": [
    "df = pd.read_excel(r\"D:\\machin learning project\\assignment.xlsx\")"
   ]
  },
  {
   "cell_type": "code",
   "execution_count": 33,
   "metadata": {},
   "outputs": [
    {
     "name": "stdout",
     "output_type": "stream",
     "text": [
      "Shape of the data: (10000, 64)\n",
      "There are 10000 rows in the data.\n"
     ]
    }
   ],
   "source": [
    "print(f'Shape of the data: {df.shape}')\n",
    "print(f'There are {df.shape[0]} rows in the data.')"
   ]
  },
  {
   "cell_type": "code",
   "execution_count": 35,
   "metadata": {},
   "outputs": [
    {
     "name": "stdout",
     "output_type": "stream",
     "text": [
      "<class 'pandas.core.frame.DataFrame'>\n",
      "RangeIndex: 10000 entries, 0 to 9999\n",
      "Data columns (total 64 columns):\n",
      " #   Column                                      Non-Null Count  Dtype         \n",
      "---  ------                                      --------------  -----         \n",
      " 0   Case No                                     10000 non-null  object        \n",
      " 1   Claim No                                    10000 non-null  object        \n",
      " 2   Registration Number                         10000 non-null  int64         \n",
      " 3   NHPM Id                                     10000 non-null  object        \n",
      " 4   Family Id                                   10000 non-null  object        \n",
      " 5   Patient District                            10000 non-null  object        \n",
      " 6   Gender                                      10000 non-null  object        \n",
      " 7   Age(Years)                                  10000 non-null  int64         \n",
      " 8   Category Details                            10000 non-null  object        \n",
      " 9   Procedure Details                           9988 non-null   object        \n",
      " 10  Case Type                                   10000 non-null  object        \n",
      " 11  Case Status                                 10000 non-null  object        \n",
      " 12  Hospital Name                               10000 non-null  object        \n",
      " 13  Hospital Code                               10000 non-null  object        \n",
      " 14  Hospital District                           10000 non-null  object        \n",
      " 15  IP Registration Date                        10000 non-null  object        \n",
      " 16  Admission Date                              10000 non-null  object        \n",
      " 17  Preauth Date                                10000 non-null  object        \n",
      " 18  Preauth Amount(Rs.)                         10000 non-null  int64         \n",
      " 19  Preauth Approve Date                        9539 non-null   object        \n",
      " 20  Preauth Approved Amount(Rs.)                10000 non-null  int64         \n",
      " 21  Preauth Rejected Date                       0 non-null      float64       \n",
      " 22  Surgery Date                                9259 non-null   object        \n",
      " 23  Death Date                                  60 non-null     object        \n",
      " 24  Discharge Date                              9203 non-null   object        \n",
      " 25  Claim Submitted Date                        9188 non-null   object        \n",
      " 26  Actual Claim Submitted Date                 9188 non-null   object        \n",
      " 27  Claim Initaiated Amount(Rs.)                9188 non-null   float64       \n",
      " 28  CPD Approved Amount(Rs.)                    7968 non-null   float64       \n",
      " 29  Claim Approved Amount(Rs.)                  10000 non-null  int64         \n",
      " 30  Assigned Flag                               9 non-null      object        \n",
      " 31  Assigned User                               9 non-null      object        \n",
      " 32  Assigned Group                              9 non-null      object        \n",
      " 33  IP Number                                   0 non-null      float64       \n",
      " 34  Actual Registration Date                    10000 non-null  object        \n",
      " 35  Type                                        10000 non-null  object        \n",
      " 36  Status of Case                              9991 non-null   object        \n",
      " 37  Total Claim Amount                          10000 non-null  int64         \n",
      " 38  Name of TPA                                 10000 non-null  object        \n",
      " 39  Hospital Type                               9821 non-null   object        \n",
      " 40  Trigger                                     0 non-null      float64       \n",
      " 41  Preauth Date.1                              10000 non-null  datetime64[ns]\n",
      " 42  Preauth Time                                10000 non-null  object        \n",
      " 43  Preauth Approval Date                       9539 non-null   datetime64[ns]\n",
      " 44  Preauth Approval Time                       9539 non-null   object        \n",
      " 45  Time taken for PPD approval                 0 non-null      float64       \n",
      " 46  Discharge Date.1                            9203 non-null   datetime64[ns]\n",
      " 47  Discharge Time                              9203 non-null   object        \n",
      " 48  LOS                                         9203 non-null   float64       \n",
      " 49  Patinet Count data                          0 non-null      float64       \n",
      " 50  Family count                                0 non-null      float64       \n",
      " 51  Patient and Hospital Same                   10000 non-null  object        \n",
      " 52  Patient & Hospital & Date common            10000 non-null  object        \n",
      " 53  Family member admited on same day           10000 non-null  object        \n",
      " 54  Familymember & Hospital & Date Common       10000 non-null  object        \n",
      " 55  Family member & Category & Hospital         10000 non-null  object        \n",
      " 56  Family member & Category & Hospital & Date  10000 non-null  object        \n",
      " 57  Test 1                                      0 non-null      float64       \n",
      " 58  Test 2                                      0 non-null      float64       \n",
      " 59  Test 3                                      0 non-null      float64       \n",
      " 60  Test 4                                      0 non-null      float64       \n",
      " 61  Test 5                                      0 non-null      float64       \n",
      " 62  Test 6                                      0 non-null      float64       \n",
      " 63  Test                                        0 non-null      float64       \n",
      "dtypes: datetime64[ns](3), float64(16), int64(6), object(39)\n",
      "memory usage: 4.9+ MB\n"
     ]
    }
   ],
   "source": [
    "df.info()\n"
   ]
  },
  {
   "cell_type": "code",
   "execution_count": 37,
   "metadata": {},
   "outputs": [
    {
     "data": {
      "text/plain": [
       "array([dtype('O'), dtype('int64'), dtype('float64'), dtype('<M8[ns]')],\n",
       "      dtype=object)"
      ]
     },
     "execution_count": 37,
     "metadata": {},
     "output_type": "execute_result"
    }
   ],
   "source": [
    "# What are the different datatypes present in the data?\n",
    "df.dtypes.unique()"
   ]
  },
  {
   "cell_type": "code",
   "execution_count": 38,
   "metadata": {},
   "outputs": [
    {
     "data": {
      "text/plain": [
       "Index(['Case No', 'Claim No', 'Registration Number', 'NHPM Id', 'Family Id',\n",
       "       'Patient District', 'Gender', 'Age(Years)', 'Category Details',\n",
       "       'Procedure Details', 'Case Type', 'Case Status', 'Hospital Name',\n",
       "       'Hospital Code', 'Hospital District', 'IP Registration Date',\n",
       "       'Admission Date', 'Preauth Date', 'Preauth Amount(Rs.)',\n",
       "       'Preauth Approve Date', 'Preauth Approved Amount(Rs.)',\n",
       "       'Preauth Rejected Date', 'Surgery Date', 'Death Date', 'Discharge Date',\n",
       "       'Claim Submitted Date', 'Actual Claim Submitted Date',\n",
       "       'Claim Initaiated Amount(Rs.)', 'CPD Approved Amount(Rs.)',\n",
       "       'Claim Approved Amount(Rs.)', 'Assigned Flag', 'Assigned User',\n",
       "       'Assigned Group', 'IP Number', 'Actual Registration Date', 'Type',\n",
       "       'Status of Case', 'Total Claim Amount', 'Name of TPA', 'Hospital Type',\n",
       "       'Trigger', 'Preauth Date.1', 'Preauth Time', 'Preauth Approval Date',\n",
       "       'Preauth Approval Time', 'Time taken for PPD approval',\n",
       "       'Discharge Date.1', 'Discharge Time', 'LOS', 'Patinet Count data',\n",
       "       'Family count', 'Patient and Hospital Same',\n",
       "       'Patient & Hospital & Date common', 'Family member admited on same day',\n",
       "       'Familymember & Hospital & Date Common',\n",
       "       'Family member & Category & Hospital',\n",
       "       'Family member & Category & Hospital & Date', 'Test 1', 'Test 2',\n",
       "       'Test 3', 'Test 4', 'Test 5', 'Test 6', 'Test'],\n",
       "      dtype='object')"
      ]
     },
     "execution_count": 38,
     "metadata": {},
     "output_type": "execute_result"
    }
   ],
   "source": [
    "df.columns"
   ]
  },
  {
   "cell_type": "code",
   "execution_count": 43,
   "metadata": {},
   "outputs": [
    {
     "data": {
      "text/plain": [
       "{int64: ['Registration Number', 'Age(Years)', 'Preauth Amount(Rs.)', 'Preauth Approved Amount(Rs.)', 'Claim Approved Amount(Rs.)', 'Total Claim Amount'], float64: ['Preauth Rejected Date', 'Claim Initaiated Amount(Rs.)', 'CPD Approved Amount(Rs.)', 'IP Number', 'Trigger', 'Time taken for PPD approval', 'LOS', 'Patinet Count data', 'Family count', 'Test 1', 'Test 2', 'Test 3', 'Test 4', 'Test 5', 'Test 6', 'Test'], datetime64[ns]: ['Preauth Date.1', 'Preauth Approval Date', 'Discharge Date.1'], object: ['Case No', 'Claim No', 'NHPM Id', 'Family Id', 'Patient District', 'Gender', 'Category Details', 'Procedure Details', 'Case Type', 'Case Status', 'Hospital Name', 'Hospital Code', 'Hospital District', 'IP Registration Date', 'Admission Date', 'Preauth Date', 'Preauth Approve Date', 'Surgery Date', 'Death Date', 'Discharge Date', 'Claim Submitted Date', 'Actual Claim Submitted Date', 'Assigned Flag', 'Assigned User', 'Assigned Group', 'Actual Registration Date', 'Type', 'Status of Case', 'Name of TPA', 'Hospital Type', 'Preauth Time', 'Preauth Approval Time', 'Discharge Time', 'Patient and Hospital Same', 'Patient & Hospital & Date common', 'Family member admited on same day', 'Familymember & Hospital & Date Common', 'Family member & Category & Hospital', 'Family member & Category & Hospital & Date']}"
      ]
     },
     "execution_count": 43,
     "metadata": {},
     "output_type": "execute_result"
    }
   ],
   "source": [
    "# Transform the Index object to a series, and grouping by data types:\n",
    "g = df.columns.to_series().groupby(df.dtypes).groups\n",
    "g"
   ]
  },
  {
   "cell_type": "code",
   "execution_count": 46,
   "metadata": {},
   "outputs": [
    {
     "name": "stdout",
     "output_type": "stream",
     "text": [
      "                    Data Type\n",
      "Case No                object\n",
      "Claim No               object\n",
      "Registration Number     int64\n",
      "NHPM Id                object\n",
      "Family Id              object\n",
      "...                       ...\n",
      "Test 3                float64\n",
      "Test 4                float64\n",
      "Test 5                float64\n",
      "Test 6                float64\n",
      "Test                  float64\n",
      "\n",
      "[64 rows x 1 columns]\n"
     ]
    }
   ],
   "source": [
    "# Create a dictionary containing data types and corresponding columns\n",
    "dt = {col: df[col].dtype for col in df.columns}\n",
    "\n",
    "# Display the columns by different data types\n",
    "attributes_by_datatype = pd.DataFrame(list(dt.values()), index=dt.keys(), columns=['Data Type'])\n",
    "print(attributes_by_datatype)"
   ]
  },
  {
   "cell_type": "code",
   "execution_count": 49,
   "metadata": {},
   "outputs": [
    {
     "data": {
      "text/plain": [
       "[1,\n",
       " 2,\n",
       " 3,\n",
       " 4,\n",
       " 5,\n",
       " 6,\n",
       " 7,\n",
       " 8,\n",
       " 9,\n",
       " 10,\n",
       " 11,\n",
       " 12,\n",
       " 13,\n",
       " 14,\n",
       " 15,\n",
       " 16,\n",
       " 17,\n",
       " 18,\n",
       " 19,\n",
       " 20,\n",
       " 21,\n",
       " 22,\n",
       " 23,\n",
       " 24,\n",
       " 25,\n",
       " 26,\n",
       " 27,\n",
       " 28,\n",
       " 29,\n",
       " 30,\n",
       " 31,\n",
       " 32,\n",
       " 33,\n",
       " 34,\n",
       " 35,\n",
       " 36,\n",
       " 37,\n",
       " 38,\n",
       " 39,\n",
       " 40,\n",
       " 41,\n",
       " 42,\n",
       " 43,\n",
       " 44,\n",
       " 45,\n",
       " 46,\n",
       " 47,\n",
       " 48,\n",
       " 49,\n",
       " 50,\n",
       " 51,\n",
       " 52,\n",
       " 53,\n",
       " 54,\n",
       " 55,\n",
       " 56,\n",
       " 57,\n",
       " 58,\n",
       " 59,\n",
       " 60,\n",
       " 61,\n",
       " 62,\n",
       " 63,\n",
       " 64,\n",
       " 65,\n",
       " 66,\n",
       " 67,\n",
       " 68,\n",
       " 69,\n",
       " 70,\n",
       " 71,\n",
       " 72,\n",
       " 73,\n",
       " 74,\n",
       " 75,\n",
       " 76,\n",
       " 77,\n",
       " 78,\n",
       " 79,\n",
       " 80,\n",
       " 81,\n",
       " 82,\n",
       " 83,\n",
       " 84,\n",
       " 85,\n",
       " 86,\n",
       " 87,\n",
       " 88,\n",
       " 89,\n",
       " 91]"
      ]
     },
     "execution_count": 49,
     "metadata": {},
     "output_type": "execute_result"
    }
   ],
   "source": [
    "sorted(df['Age(Years)'].unique())\n"
   ]
  },
  {
   "cell_type": "code",
   "execution_count": 50,
   "metadata": {},
   "outputs": [
    {
     "data": {
      "text/plain": [
       "Case No                False\n",
       "Claim No               False\n",
       "Registration Number    False\n",
       "NHPM Id                False\n",
       "Family Id              False\n",
       "                       ...  \n",
       "Test 3                  True\n",
       "Test 4                  True\n",
       "Test 5                  True\n",
       "Test 6                  True\n",
       "Test                    True\n",
       "Length: 64, dtype: bool"
      ]
     },
     "execution_count": 50,
     "metadata": {},
     "output_type": "execute_result"
    }
   ],
   "source": [
    "df.isnull().any()\n"
   ]
  },
  {
   "cell_type": "code",
   "execution_count": 51,
   "metadata": {},
   "outputs": [],
   "source": [
    "# removing Test columns as it has null values\n",
    "df.drop(columns =[ 'Test 1', 'Test 2',\n",
    "       'Test 3', 'Test 4', 'Test 5', 'Test 6', 'Test'],inplace=True)"
   ]
  },
  {
   "cell_type": "code",
   "execution_count": 52,
   "metadata": {},
   "outputs": [
    {
     "data": {
      "text/plain": [
       "Case No                                       False\n",
       "Claim No                                      False\n",
       "Registration Number                           False\n",
       "NHPM Id                                       False\n",
       "Family Id                                     False\n",
       "Patient District                              False\n",
       "Gender                                        False\n",
       "Age(Years)                                    False\n",
       "Category Details                              False\n",
       "Procedure Details                              True\n",
       "Case Type                                     False\n",
       "Case Status                                   False\n",
       "Hospital Name                                 False\n",
       "Hospital Code                                 False\n",
       "Hospital District                             False\n",
       "IP Registration Date                          False\n",
       "Admission Date                                False\n",
       "Preauth Date                                  False\n",
       "Preauth Amount(Rs.)                           False\n",
       "Preauth Approve Date                           True\n",
       "Preauth Approved Amount(Rs.)                  False\n",
       "Preauth Rejected Date                          True\n",
       "Surgery Date                                   True\n",
       "Death Date                                     True\n",
       "Discharge Date                                 True\n",
       "Claim Submitted Date                           True\n",
       "Actual Claim Submitted Date                    True\n",
       "Claim Initaiated Amount(Rs.)                   True\n",
       "CPD Approved Amount(Rs.)                       True\n",
       "Claim Approved Amount(Rs.)                    False\n",
       "Assigned Flag                                  True\n",
       "Assigned User                                  True\n",
       "Assigned Group                                 True\n",
       "IP Number                                      True\n",
       "Actual Registration Date                      False\n",
       "Type                                          False\n",
       "Status of Case                                 True\n",
       "Total Claim Amount                            False\n",
       "Name of TPA                                   False\n",
       "Hospital Type                                  True\n",
       "Trigger                                        True\n",
       "Preauth Date.1                                False\n",
       "Preauth Time                                  False\n",
       "Preauth Approval Date                          True\n",
       "Preauth Approval Time                          True\n",
       "Time taken for PPD approval                    True\n",
       "Discharge Date.1                               True\n",
       "Discharge Time                                 True\n",
       "LOS                                            True\n",
       "Patinet Count data                             True\n",
       "Family count                                   True\n",
       "Patient and Hospital Same                     False\n",
       "Patient & Hospital & Date common              False\n",
       "Family member admited on same day             False\n",
       "Familymember & Hospital & Date Common         False\n",
       "Family member & Category & Hospital           False\n",
       "Family member & Category & Hospital & Date    False\n",
       "dtype: bool"
      ]
     },
     "execution_count": 52,
     "metadata": {},
     "output_type": "execute_result"
    }
   ],
   "source": [
    "df.isnull().any()\n"
   ]
  },
  {
   "cell_type": "code",
   "execution_count": 53,
   "metadata": {},
   "outputs": [],
   "source": [
    "# Fill missing values in 'Procedure Details' with the median\n",
    "median_procedure_details = df['Procedure Details'].mode()\n",
    "df['Procedure Details'].fillna(median_procedure_details, inplace=True)\n",
    "\n",
    "# Fill missing values in 'Claim Initaiated Amount(Rs.)' with the median\n",
    "median_claim_initiated_amount = df['Claim Initaiated Amount(Rs.)'].median()\n",
    "df['Claim Initaiated Amount(Rs.)'].fillna(median_claim_initiated_amount, inplace=True)\n",
    "\n",
    "\n",
    "# Fill missing values in 'LOS' with the median 'LOS' for similar cases \n",
    "df['LOS'].fillna(df.groupby(['Gender', 'Age(Years)', 'Category Details', 'Case Type'])['LOS'].transform('median'), inplace=True)\n"
   ]
  },
  {
   "cell_type": "code",
   "execution_count": 54,
   "metadata": {},
   "outputs": [
    {
     "data": {
      "text/plain": [
       "Case No                                       False\n",
       "Claim No                                      False\n",
       "Registration Number                           False\n",
       "NHPM Id                                       False\n",
       "Family Id                                     False\n",
       "Patient District                              False\n",
       "Gender                                        False\n",
       "Age(Years)                                    False\n",
       "Category Details                              False\n",
       "Procedure Details                              True\n",
       "Case Type                                     False\n",
       "Case Status                                   False\n",
       "Hospital Name                                 False\n",
       "Hospital Code                                 False\n",
       "Hospital District                             False\n",
       "IP Registration Date                          False\n",
       "Admission Date                                False\n",
       "Preauth Date                                  False\n",
       "Preauth Amount(Rs.)                           False\n",
       "Preauth Approve Date                           True\n",
       "Preauth Approved Amount(Rs.)                  False\n",
       "Preauth Rejected Date                          True\n",
       "Surgery Date                                   True\n",
       "Death Date                                     True\n",
       "Discharge Date                                 True\n",
       "Claim Submitted Date                           True\n",
       "Actual Claim Submitted Date                    True\n",
       "Claim Initaiated Amount(Rs.)                  False\n",
       "CPD Approved Amount(Rs.)                       True\n",
       "Claim Approved Amount(Rs.)                    False\n",
       "Assigned Flag                                  True\n",
       "Assigned User                                  True\n",
       "Assigned Group                                 True\n",
       "IP Number                                      True\n",
       "Actual Registration Date                      False\n",
       "Type                                          False\n",
       "Status of Case                                 True\n",
       "Total Claim Amount                            False\n",
       "Name of TPA                                   False\n",
       "Hospital Type                                  True\n",
       "Trigger                                        True\n",
       "Preauth Date.1                                False\n",
       "Preauth Time                                  False\n",
       "Preauth Approval Date                          True\n",
       "Preauth Approval Time                          True\n",
       "Time taken for PPD approval                    True\n",
       "Discharge Date.1                               True\n",
       "Discharge Time                                 True\n",
       "LOS                                            True\n",
       "Patinet Count data                             True\n",
       "Family count                                   True\n",
       "Patient and Hospital Same                     False\n",
       "Patient & Hospital & Date common              False\n",
       "Family member admited on same day             False\n",
       "Familymember & Hospital & Date Common         False\n",
       "Family member & Category & Hospital           False\n",
       "Family member & Category & Hospital & Date    False\n",
       "dtype: bool"
      ]
     },
     "execution_count": 54,
     "metadata": {},
     "output_type": "execute_result"
    }
   ],
   "source": [
    "df.isnull().any()\n"
   ]
  },
  {
   "cell_type": "code",
   "execution_count": 57,
   "metadata": {},
   "outputs": [
    {
     "data": {
      "text/plain": [
       "Case No                                           0\n",
       "Claim No                                          0\n",
       "Registration Number                               0\n",
       "NHPM Id                                           0\n",
       "Family Id                                         0\n",
       "Patient District                                  0\n",
       "Gender                                            0\n",
       "Age(Years)                                        0\n",
       "Category Details                                  0\n",
       "Procedure Details                                11\n",
       "Case Type                                         0\n",
       "Case Status                                       0\n",
       "Hospital Name                                     0\n",
       "Hospital Code                                     0\n",
       "Hospital District                                 0\n",
       "IP Registration Date                              0\n",
       "Admission Date                                    0\n",
       "Preauth Date                                      0\n",
       "Preauth Amount(Rs.)                               0\n",
       "Preauth Approve Date                            461\n",
       "Preauth Approved Amount(Rs.)                      0\n",
       "Preauth Rejected Date                         10000\n",
       "Surgery Date                                    741\n",
       "Death Date                                     9940\n",
       "Discharge Date                                  797\n",
       "Claim Submitted Date                            812\n",
       "Actual Claim Submitted Date                     812\n",
       "Claim Initaiated Amount(Rs.)                      0\n",
       "CPD Approved Amount(Rs.)                       2032\n",
       "Claim Approved Amount(Rs.)                        0\n",
       "Assigned Flag                                  9991\n",
       "Assigned User                                  9991\n",
       "Assigned Group                                 9991\n",
       "IP Number                                     10000\n",
       "Actual Registration Date                          0\n",
       "Type                                              0\n",
       "Status of Case                                    9\n",
       "Total Claim Amount                                0\n",
       "Name of TPA                                       0\n",
       "Hospital Type                                   179\n",
       "Trigger                                       10000\n",
       "Preauth Date.1                                    0\n",
       "Preauth Time                                      0\n",
       "Preauth Approval Date                           461\n",
       "Preauth Approval Time                           461\n",
       "Time taken for PPD approval                   10000\n",
       "Discharge Date.1                                797\n",
       "Discharge Time                                  797\n",
       "LOS                                              28\n",
       "Patinet Count data                            10000\n",
       "Family count                                  10000\n",
       "Patient and Hospital Same                         0\n",
       "Patient & Hospital & Date common                  0\n",
       "Family member admited on same day                 0\n",
       "Familymember & Hospital & Date Common             0\n",
       "Family member & Category & Hospital               0\n",
       "Family member & Category & Hospital & Date        0\n",
       "dtype: int64"
      ]
     },
     "execution_count": 57,
     "metadata": {},
     "output_type": "execute_result"
    }
   ],
   "source": [
    "df.isnull().sum()\n"
   ]
  },
  {
   "cell_type": "code",
   "execution_count": null,
   "metadata": {},
   "outputs": [],
   "source": []
  }
 ],
 "metadata": {
  "kernelspec": {
   "display_name": "Python 3",
   "language": "python",
   "name": "python3"
  },
  "language_info": {
   "codemirror_mode": {
    "name": "ipython",
    "version": 3
   },
   "file_extension": ".py",
   "mimetype": "text/x-python",
   "name": "python",
   "nbconvert_exporter": "python",
   "pygments_lexer": "ipython3",
   "version": "3.11.2"
  }
 },
 "nbformat": 4,
 "nbformat_minor": 2
}
